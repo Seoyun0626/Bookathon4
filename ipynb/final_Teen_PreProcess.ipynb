{
  "cells": [
    {
      "cell_type": "code",
      "execution_count": 27,
      "metadata": {
        "id": "5WPS6Y7y0uGp"
      },
      "outputs": [],
      "source": [
        "!pip install soynlp -q"
      ]
    },
    {
      "cell_type": "code",
      "execution_count": 28,
      "metadata": {
        "colab": {
          "base_uri": "https://localhost:8080/"
        },
        "id": "gVQG5qTygysX",
        "outputId": "531ebf22-0f7d-4ad4-b876-8648508632f0"
      },
      "outputs": [
        {
          "name": "stdout",
          "output_type": "stream",
          "text": [
            "Drive already mounted at /content/drive; to attempt to forcibly remount, call drive.mount(\"/content/drive\", force_remount=True).\n"
          ]
        }
      ],
      "source": [
        "from google.colab import drive\n",
        "\n",
        "drive.mount('/content/drive') #구글 드라이브에 올리면 실행 가능"
      ]
    },
    {
      "cell_type": "code",
      "execution_count": 29,
      "metadata": {
        "id": "MmJpTajc3fHp"
      },
      "outputs": [],
      "source": [
        "import re\n",
        "import json\n",
        "from soynlp.normalizer import *"
      ]
    },
    {
      "cell_type": "code",
      "execution_count": 30,
      "metadata": {
        "id": "dwqE-Ygy4JdI"
      },
      "outputs": [],
      "source": [
        "def PreProcess(text):\n",
        "    bad_chars = {\"\\u200b\": \"\", \"…\": \"...\", \"\\ufeff\": \"\"}\n",
        "    for bad_char in bad_chars:\n",
        "        text = text.replace(bad_char, bad_chars[bad_char]) # 문제를 일으킬 수 있는 문자 제거(너비가 0인 공백문자,인코딩 정보를 알려주는 역할 문자)\n",
        "    error_chars = {\"\\u3000\": \" \", \"\\u2009\": \" \", \"\\u2002\": \" \", \"\\xa0\":\" \"} #(표의 공백문자, 한칸, 엔터+스페이스, 빈 공백-유니코드에서 )\n",
        "    for error_char in error_chars:\n",
        "        text = text.replace(error_char, error_chars[error_char])\n",
        "    text = re.sub(pattern = '^[a-zA-Z0-9]+@[a-zA-Z0-9]+$', \\\n",
        "                  repl ='', string = text) #이메일 제거\n",
        "    text = re.sub(pattern = '#\\S+', \\\n",
        "                  repl ='', string = text) # \"#문자\" 형식 어절 제거\n",
        "    text = re.sub(pattern = '@\\w+', \\\n",
        "                  repl ='', string = text) # \"@문자\" 형식 어절 제거\n",
        "    text = re.sub(pattern = '\\(출처 ?= ?.+\\) |\\(사진 ?= ?.+\\) |\\(자료 ?= ?.+\\)| \\(자료사진\\) |사진=.+기자 ', \\\n",
        "                  repl ='', string = text) # 뉴스 내 포함된 이미지에 대한 레이블 제거\n",
        "    _filter = re.compile('https?://\\S+|www\\.\\S+')\n",
        "    text = _filter.sub('', text) #url 전처리\n",
        "    _filter = re.compile('[ㄱ-ㅣ]+') \n",
        "    text = _filter.sub('', text) #자모음제거\n",
        "    _filter = re.compile('.co\\S')\n",
        "    text = _filter.sub('', text) #.co 전처리\n",
        "    _filter = re.compile('[一-龥]')\n",
        "    text = _filter.sub('', text) #한자 전처리  \n",
        "    _filter = re.compile('[^가-힣 0-9 a-z A-Z \\. \\n \\, \\' \\\" \\? \\! \\< \\> \\: \\《 \\》\\『\\』 \\-]+') \n",
        "    text = _filter.sub('', text) #(\".\",\",\",\"'\",\"?\",\"!\")를 제외한 특수문자 제거\n",
        "    # if \"\\n\" in text:\n",
        "    #     print(\"fail\")\n",
        "    return text"
      ]
    },
    {
      "cell_type": "markdown",
      "metadata": {
        "id": "pp66WrHiyviu"
      },
      "source": []
    },
    {
      "cell_type": "code",
      "execution_count": 32,
      "metadata": {
        "id": "pUfuVNM_9PCP"
      },
      "outputs": [],
      "source": [
        "#save_data: 데이터를 합쳐서 저장하는 함수\n",
        "\n",
        "from glob import glob\n",
        "\n",
        "def save_data(file_path, save_path):\n",
        "    print('{} data saving.'.format(file_path.split('/')[-1]))\n",
        "    save_path_1 = '/content/drive/MyDrive/Bookathon/글틴2_서윤.json'\n",
        "    with open(file_path, 'r') as f:\n",
        "        json_data = json.load(f)\n",
        "        text = json_data['data']\n",
        "        length = len(text)\n",
        "        for i in range (length):\n",
        "            text[i]['text'] = PreProcess(text[i][\"text\"])\n",
        "    data={}\n",
        "    data[\"data\"] = text\n",
        "\n",
        "    with open(save_path_1, 'w') as outfile:\n",
        "        json.dump(data, outfile, ensure_ascii=False)    \n",
        "      \n",
        "\n",
        "\n",
        "    print(\"\\nAll saved.\".format(file_path.split('/')[-1]))\n",
        "\n",
        "    return data"
      ]
    },
    {
      "cell_type": "code",
      "execution_count": 36,
      "metadata": {
        "id": "Q2q7OpYI9ZEb"
      },
      "outputs": [],
      "source": [
        "#합칠 데이터와 새로 저장할 데이터 Path 지정 => 전처리할 데이터와 전처리 저장할 데이터에 맞는 위치에 맞게 변경\n",
        "\n",
        "file_1 = '/content/drive/MyDrive/Bookathon/글틴2_서윤.json' #크롤링 후 수집한 데이터의 위치(전처리 이전) => 팀 데이터 보관위치에 맞게 변경\n",
        "save_path_1 = '/content/drive/MyDrive/Bookathon/글틴_2_서윤_기계처리 + 사람처리.json' #저장할 데정터 위치(전처리된) => 팀 데이터 보관할 위치에 맞게 변경"
      ]
    },
    {
      "cell_type": "code",
      "execution_count": 37,
      "metadata": {
        "colab": {
          "base_uri": "https://localhost:8080/"
        },
        "id": "wDoEWfSi9cPh",
        "outputId": "f4cb8064-2aac-4ce4-cc60-c9a95e7613f4"
      },
      "outputs": [
        {
          "name": "stdout",
          "output_type": "stream",
          "text": [
            "창훈_글틴2_전처리 전.json data saving.\n",
            "\n",
            "All saved.\n"
          ]
        }
      ],
      "source": [
        "#함수 실행\n",
        "\n",
        "data = save_data(file_1, save_path_1)"
      ]
    },
    {
      "cell_type": "code",
      "execution_count": 25,
      "metadata": {
        "colab": {
          "base_uri": "https://localhost:8080/",
          "height": 174
        },
        "id": "Ihw5VeVByU-2",
        "outputId": "7e872a92-f0bf-47ff-be7a-51e9aeaca8c2"
      },
      "outputs": [
        {
          "ename": "NameError",
          "evalue": "ignored",
          "output_type": "error",
          "traceback": [
            "\u001b[0;31m---------------------------------------------------------------------------\u001b[0m",
            "\u001b[0;31mNameError\u001b[0m                                 Traceback (most recent call last)",
            "\u001b[0;32m<ipython-input-25-2af5730b6981>\u001b[0m in \u001b[0;36m<module>\u001b[0;34m\u001b[0m\n\u001b[0;32m----> 1\u001b[0;31m \u001b[0mprint\u001b[0m\u001b[0;34m(\u001b[0m\u001b[0mdata\u001b[0m\u001b[0;34m[\u001b[0m\u001b[0;34m\"data\"\u001b[0m\u001b[0;34m]\u001b[0m\u001b[0;34m[\u001b[0m\u001b[0;36m0\u001b[0m\u001b[0;34m]\u001b[0m\u001b[0;34m)\u001b[0m\u001b[0;34m\u001b[0m\u001b[0;34m\u001b[0m\u001b[0m\n\u001b[0m",
            "\u001b[0;31mNameError\u001b[0m: name 'data' is not defined"
          ]
        }
      ],
      "source": [
        "print(data[\"data\"][0])"
      ]
    }
  ],
  "metadata": {
    "colab": {
      "provenance": []
    },
    "gpuClass": "standard",
    "kernelspec": {
      "display_name": "Python 3",
      "language": "python",
      "name": "python3"
    },
    "language_info": {
      "name": "python",
      "version": "3.9.5 (tags/v3.9.5:0a7dcbd, May  3 2021, 17:27:52) [MSC v.1928 64 bit (AMD64)]"
    },
    "vscode": {
      "interpreter": {
        "hash": "0412658f24b7d3979589ed8793c3b2dff1ef50d4ed37d8562a8f45b69e7e5e0d"
      }
    }
  },
  "nbformat": 4,
  "nbformat_minor": 0
}
